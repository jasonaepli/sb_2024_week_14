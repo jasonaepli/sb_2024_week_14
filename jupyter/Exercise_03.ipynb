{
 "cells": [
  {
   "cell_type": "markdown",
   "id": "60483b6a-a586-4457-b05b-fad7a89cfc95",
   "metadata": {},
   "source": [
    "# Exercise 03: Confidence Intervals and Error Ellipses\n",
    "\n",
    "**Learn a bit about confidence intervals and error ellipses from videos, web pages, books, etc., and summarize some key concepts below.  Cite your sources.**"
   ]
  },
  {
   "cell_type": "markdown",
   "id": "76203eaa-45f0-4240-8488-f9626e50a308",
   "metadata": {},
   "source": [
    "YOUR ANSWER HERE"
   ]
  },
  {
   "cell_type": "markdown",
   "id": "bfd5efa3-e62c-47b2-b287-5619cfdaf929",
   "metadata": {},
   "source": [
    "<font color='red'>\n",
    "Confidence intervals express the likelihood that the true value being estimated exists within a certain range of values.  For example, if a 95% confidence interval of $[0.25 0.75]$ is given, then you should interpret that to mean that there is a 95% probability the true value of the parameter being measured exists within that range."
   ]
  },
  {
   "cell_type": "markdown",
   "id": "9d51b1ab-3674-42e5-87bb-32d59cb858b0",
   "metadata": {},
   "source": [
    "<font color='red'>\n",
    "Error Ellipses are a common means to express the uncertainty associated with measurements in 2 dimensions (x, y) centered over the bias location.  The ellipse is defined by the terms $b_x$ and $b_y$ representing the x and y components of the bias vector $b$, $\\sigma_x$ and $\\sigma_y$ are the variances of the bias vector comonents, and $\\gamma$ is the scale parameter setting the area of the ellipse.  The resulting ellipse defined by the below equation expresses a confidence interval based on the table below.\n",
    "$$\n",
    "    (\\frac{x-b_x}{\\sigma_x})^2+(\\frac{y-b_y}{\\sigma_y})^2=\\gamma\n",
    "$$\n",
    "\n",
    "| Conf Interval  | $\\gamma$ |\n",
    "| ------------- | ------------- |\n",
    "| 39.35%  | 1.0  |\n",
    "| 50%  | 1.386  |\n",
    "| 95% | 5.991 |"
   ]
  },
  {
   "cell_type": "markdown",
   "id": "5b8a46bd-a3a6-4367-a440-c8471cd88690",
   "metadata": {},
   "source": [
    "Sources:\n",
    " - Nicholas O'Donoughue, Emitter Detection and Geolocation for Electronic Warfare , Artech, 2019."
   ]
  },
  {
   "cell_type": "code",
   "execution_count": null,
   "id": "09cb8658-94ce-4f55-b3d9-8487a0a267a0",
   "metadata": {},
   "outputs": [],
   "source": []
  }
 ],
 "metadata": {
  "kernelspec": {
   "display_name": "Python 3 (ipykernel)",
   "language": "python",
   "name": "python3"
  },
  "language_info": {
   "codemirror_mode": {
    "name": "ipython",
    "version": 3
   },
   "file_extension": ".py",
   "mimetype": "text/x-python",
   "name": "python",
   "nbconvert_exporter": "python",
   "pygments_lexer": "ipython3",
   "version": "3.10.13"
  }
 },
 "nbformat": 4,
 "nbformat_minor": 5
}
