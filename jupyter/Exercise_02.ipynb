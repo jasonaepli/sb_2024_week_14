{
 "cells": [
  {
   "cell_type": "markdown",
   "id": "fa481f8d-cb1b-4b31-b441-11c6b40b7356",
   "metadata": {},
   "source": [
    "# Exercise 02: Weighted Least Squares\n",
    "\n",
    "**Learn a bit about weighted least squared (WLS) from videos, web pages, books, etc., and summarize some key concepts below.  Cite your sources.**"
   ]
  },
  {
   "cell_type": "markdown",
   "id": "174cea75-dc6a-4816-9eea-0a14a2c80b4c",
   "metadata": {},
   "source": [
    "YOUR ANSWER HERE"
   ]
  },
  {
   "cell_type": "markdown",
   "id": "11cd477a-bd6e-493d-a808-78d6357fa12c",
   "metadata": {},
   "source": [
    "<font color='red'>\n",
    "WLS is an approach to generating a best fit model of data by minimizing the residuals, or the sum of the differences between the data values and the model (or predicted) values.  The Least Squares algorithm is best fit when the errors are both (1) uncorrelated and (2) have equal variance.  If (2) is not true, then it can be shown that minimizing a weighted sum of the residuals produces a best fit model when the weights applied are equal to the inverse of the square of the measurement variance.\n",
    "\n",
    "What this looks like in practice, is as the best fit model is being constructed, data points that exist further away from the model and have low measurement variances tend to have a larger effect on the model construction.\n",
    "</font>"
   ]
  },
  {
   "cell_type": "markdown",
   "id": "1dc8cb01-e7f3-4934-bc6c-1f06430b0464",
   "metadata": {},
   "source": [
    "Sources:\n",
    " - https://en.wikipedia.org/wiki/Weighted_least_squares\n",
    " - https://www.youtube.com/watch?v=wCJ8I-MtJdQ&t=25s"
   ]
  },
  {
   "cell_type": "code",
   "execution_count": null,
   "id": "7d1fb630-b968-4366-b042-2eec1fd69565",
   "metadata": {},
   "outputs": [],
   "source": []
  }
 ],
 "metadata": {
  "kernelspec": {
   "display_name": "Python 3 (ipykernel)",
   "language": "python",
   "name": "python3"
  },
  "language_info": {
   "codemirror_mode": {
    "name": "ipython",
    "version": 3
   },
   "file_extension": ".py",
   "mimetype": "text/x-python",
   "name": "python",
   "nbconvert_exporter": "python",
   "pygments_lexer": "ipython3",
   "version": "3.10.13"
  }
 },
 "nbformat": 4,
 "nbformat_minor": 5
}
